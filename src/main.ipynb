{
  "nbformat": 4,
  "nbformat_minor": 0,
  "metadata": {
    "colab": {
      "provenance": [],
      "gpuType": "T4",
      "authorship_tag": "ABX9TyP3e/pP0bErypImN9be8tsP",
      "include_colab_link": true
    },
    "kernelspec": {
      "name": "python3",
      "display_name": "Python 3"
    },
    "language_info": {
      "name": "python"
    },
    "accelerator": "GPU"
  },
  "cells": [
    {
      "cell_type": "markdown",
      "metadata": {
        "id": "view-in-github",
        "colab_type": "text"
      },
      "source": [
        "<a href=\"https://colab.research.google.com/github/LonnyCox55/MSDS692_ParasiticInfectionCNN/blob/main/src/main.ipynb\" target=\"_parent\"><img src=\"https://colab.research.google.com/assets/colab-badge.svg\" alt=\"Open In Colab\"/></a>"
      ]
    },
    {
      "cell_type": "markdown",
      "source": [
        "#Lonny Cox-Lauf\n",
        "#MSDS692: Data Science Practicum I\n",
        "#CNN to Classify Parasitic Infection Type using Microscopic Images\n",
        "\n",
        "This is the main Python notebook file that will clean the image data files, train, and evaluate the CNN models to classify types of parasitic eggs through microscopy."
      ],
      "metadata": {
        "id": "u_vzjoU5lg7Y"
      }
    },
    {
      "cell_type": "code",
      "execution_count": 1,
      "metadata": {
        "id": "l4Od4MzFDoEt"
      },
      "outputs": [],
      "source": [
        "# Import all necessary TensorFlow libraries\n",
        "from tensorflow.keras import backend as K\n",
        "from tensorflow.keras import backend\n",
        "from tensorflow.keras import models\n",
        "from tensorflow.keras import layers\n",
        "from tensorflow.keras import optimizers\n",
        "from tensorflow.keras.utils import to_categorical\n",
        "from tensorflow.keras import regularizers\n",
        "from tensorflow.keras.layers import BatchNormalization\n",
        "from tensorflow.keras.callbacks import EarlyStopping\n",
        "from tensorflow.keras.utils import to_categorical\n",
        "from tensorflow.keras.preprocessing.image import ImageDataGenerator # Library for data augmentation\n",
        "from tensorflow.keras.preprocessing import image"
      ]
    },
    {
      "cell_type": "code",
      "source": [
        "# Import all other necessary libraries for the project\n",
        "import numpy as np\n",
        "import matplotlib.pyplot as plt\n",
        "from sklearn.model_selection import train_test_split\n",
        "from IPython.display import display # Library to help view images\n",
        "from PIL import Image # Library to help view images\n",
        "import os, shutil # Library for navigating files\n",
        "from google.colab import drive # Library to mount google drives\n",
        "import glob"
      ],
      "metadata": {
        "id": "ZIAqnKg2dYIH"
      },
      "execution_count": 2,
      "outputs": []
    },
    {
      "cell_type": "code",
      "source": [
        "# TO DO: Import all the CNN model instantiation functions\n"
      ],
      "metadata": {
        "id": "Aiaq3-lWd6Zq"
      },
      "execution_count": 3,
      "outputs": []
    },
    {
      "cell_type": "code",
      "source": [
        "# Seed the random number generator for consistency\n",
        "np.random.seed(55)"
      ],
      "metadata": {
        "id": "a7LkaeHhcjtD"
      },
      "execution_count": 4,
      "outputs": []
    },
    {
      "cell_type": "code",
      "source": [
        "# Mount the Google Drive to access the image data .zip files\n",
        "drive.mount('/content/gdrive')"
      ],
      "metadata": {
        "id": "WBD3OufTeKXm",
        "outputId": "ea9410e7-588c-4824-d291-3d0e03fe2f5a",
        "colab": {
          "base_uri": "https://localhost:8080/"
        }
      },
      "execution_count": 5,
      "outputs": [
        {
          "output_type": "stream",
          "name": "stdout",
          "text": [
            "Mounted at /content/gdrive\n"
          ]
        }
      ]
    },
    {
      "cell_type": "code",
      "source": [
        "# Un-zip all the training and testing image data files into Google Drive\n",
        "!unzip gdrive/MyDrive/MSDS692_Practicum_I/data/Chula-ParasiteEgg-11.zip > /dev/null\n",
        "#!unzip gdrive/MyDrive/MSDS692_Practicum_I/data/Chula-ParasiteEgg-11_test.zip > /dev/null TO DO: should I use this test data? It's unlabeled..."
      ],
      "metadata": {
        "id": "LJiD4Rype4FQ"
      },
      "execution_count": 6,
      "outputs": []
    },
    {
      "cell_type": "code",
      "source": [
        "# Specify the base directory where all the images are located\n",
        "baseDir = '/content/Chula-ParasiteEgg-11/Chula-ParasiteEgg-11/data'"
      ],
      "metadata": {
        "id": "oz2EzjchfVKt"
      },
      "execution_count": 7,
      "outputs": []
    },
    {
      "cell_type": "code",
      "source": [
        "# Iterate through all 11 classifications of parasitic eggs\n",
        "for eggClass in (\"Hymenolepis*nana*\", \"Ascaris*lumbricoides*\", \"Enterobius*vermicularis*\", \"Capillaria*philippinensis*\", \"Hymenolepis*diminuta*\", \"Paragonimus*spp*\", \"Trichuris*trichiura*\", \"Fasciolopsis*buski*\", \"Opisthorchis*viverrine*\", \"Taenia*spp*\", \"Hookworm*\"):\n",
        "  eggFiles = glob.glob(eggClass, root_dir = baseDir) # Find all egg image files that match the current class\n",
        "  classDirName = eggClass.replace(\"*\", \"_\")          # Replace * with underscore for the new subdirectory names\n",
        "  np.random.shuffle(eggFiles)                        # Randomize the files\n",
        "  numTestFiles = int(0.2*len(eggFiles))              # Find 20% of the number of files for the test set\n",
        "  testFiles = eggFiles[-numTestFiles:]               # Create subset of the data files for the test set\n",
        "\n",
        "  # Move each test file to the respective test set directory\n",
        "  os.makedirs(baseDir + \"/test/\" + classDirName) # Create new test directory\n",
        "  for fname in testFiles:\n",
        "    shutil.move(baseDir + \"/\" + fname,                           # Source\n",
        "                baseDir + \"/test/\" + classDirName + \"/\" + fname) # Destination\n",
        "\n",
        "  numValFiles = int(0.16*len(eggFiles))                          # Find 20% of the remaining (training set) files for the validation set\n",
        "  valFiles = eggFiles[-(numTestFiles+numValFiles):-numTestFiles] # Create subset of the data files for the validation set\n",
        "\n",
        "  # Move each validation file to the respective validation set directory\n",
        "  os.makedirs(baseDir + \"/val/\" + classDirName) # Create new validation directory\n",
        "  for fname in valFiles:\n",
        "    shutil.move(baseDir + \"/\" + fname,                           # Source\n",
        "                baseDir + \"/val/\" + classDirName + \"/\" + fname)  # Destination\n",
        "\n",
        "  # Create subset of the data files for the training set\n",
        "  numTrainFiles = len(eggFiles) - numTestFiles - numValFiles\n",
        "  trainFiles = eggFiles[:numTrainFiles]\n",
        "\n",
        "  # Move each training file to the respective training set directory\n",
        "  os.makedirs(baseDir + \"/train/\" + classDirName) # Create new train directory\n",
        "  for fname in trainFiles:\n",
        "    shutil.move(baseDir + \"/\" + fname,                            # Source\n",
        "                baseDir + \"/train/\" + classDirName + \"/\" + fname) # Destination"
      ],
      "metadata": {
        "id": "lWywgxgpeDPb",
        "outputId": "69d4852f-dfcb-4834-e3a2-bc8f2f62578f",
        "colab": {
          "base_uri": "https://localhost:8080/",
          "height": 479
        }
      },
      "execution_count": 8,
      "outputs": [
        {
          "output_type": "error",
          "ename": "FileNotFoundError",
          "evalue": "[Errno 2] No such file or directory: '/content/Chula-ParasiteEgg-11/Chula-ParasiteEgg-11/data/valHymenolepis_nana_/Hymenolepis nana_0368.jpg'",
          "traceback": [
            "\u001b[0;31m---------------------------------------------------------------------------\u001b[0m",
            "\u001b[0;31mFileNotFoundError\u001b[0m                         Traceback (most recent call last)",
            "\u001b[0;32m/usr/lib/python3.10/shutil.py\u001b[0m in \u001b[0;36mmove\u001b[0;34m(src, dst, copy_function)\u001b[0m\n\u001b[1;32m    815\u001b[0m     \u001b[0;32mtry\u001b[0m\u001b[0;34m:\u001b[0m\u001b[0;34m\u001b[0m\u001b[0;34m\u001b[0m\u001b[0m\n\u001b[0;32m--> 816\u001b[0;31m         \u001b[0mos\u001b[0m\u001b[0;34m.\u001b[0m\u001b[0mrename\u001b[0m\u001b[0;34m(\u001b[0m\u001b[0msrc\u001b[0m\u001b[0;34m,\u001b[0m \u001b[0mreal_dst\u001b[0m\u001b[0;34m)\u001b[0m\u001b[0;34m\u001b[0m\u001b[0;34m\u001b[0m\u001b[0m\n\u001b[0m\u001b[1;32m    817\u001b[0m     \u001b[0;32mexcept\u001b[0m \u001b[0mOSError\u001b[0m\u001b[0;34m:\u001b[0m\u001b[0;34m\u001b[0m\u001b[0;34m\u001b[0m\u001b[0m\n",
            "\u001b[0;31mFileNotFoundError\u001b[0m: [Errno 2] No such file or directory: '/content/Chula-ParasiteEgg-11/Chula-ParasiteEgg-11/data/Hymenolepis nana_0368.jpg' -> '/content/Chula-ParasiteEgg-11/Chula-ParasiteEgg-11/data/valHymenolepis_nana_/Hymenolepis nana_0368.jpg'",
            "\nDuring handling of the above exception, another exception occurred:\n",
            "\u001b[0;31mFileNotFoundError\u001b[0m                         Traceback (most recent call last)",
            "\u001b[0;32m<ipython-input-8-a3a6e2d4f081>\u001b[0m in \u001b[0;36m<cell line: 2>\u001b[0;34m()\u001b[0m\n\u001b[1;32m     19\u001b[0m   \u001b[0mos\u001b[0m\u001b[0;34m.\u001b[0m\u001b[0mmakedirs\u001b[0m\u001b[0;34m(\u001b[0m\u001b[0mbaseDir\u001b[0m \u001b[0;34m+\u001b[0m \u001b[0;34m\"/val/\"\u001b[0m \u001b[0;34m+\u001b[0m \u001b[0mclassDirName\u001b[0m\u001b[0;34m)\u001b[0m \u001b[0;31m# Create new validation directory\u001b[0m\u001b[0;34m\u001b[0m\u001b[0;34m\u001b[0m\u001b[0m\n\u001b[1;32m     20\u001b[0m   \u001b[0;32mfor\u001b[0m \u001b[0mfname\u001b[0m \u001b[0;32min\u001b[0m \u001b[0mvalFiles\u001b[0m\u001b[0;34m:\u001b[0m\u001b[0;34m\u001b[0m\u001b[0;34m\u001b[0m\u001b[0m\n\u001b[0;32m---> 21\u001b[0;31m     shutil.move(baseDir + \"/\" + fname,                          # Source\n\u001b[0m\u001b[1;32m     22\u001b[0m                 baseDir + \"/val\" + classDirName + \"/\" + fname)  # Destination\n\u001b[1;32m     23\u001b[0m \u001b[0;34m\u001b[0m\u001b[0m\n",
            "\u001b[0;32m/usr/lib/python3.10/shutil.py\u001b[0m in \u001b[0;36mmove\u001b[0;34m(src, dst, copy_function)\u001b[0m\n\u001b[1;32m    834\u001b[0m             \u001b[0mrmtree\u001b[0m\u001b[0;34m(\u001b[0m\u001b[0msrc\u001b[0m\u001b[0;34m)\u001b[0m\u001b[0;34m\u001b[0m\u001b[0;34m\u001b[0m\u001b[0m\n\u001b[1;32m    835\u001b[0m         \u001b[0;32melse\u001b[0m\u001b[0;34m:\u001b[0m\u001b[0;34m\u001b[0m\u001b[0;34m\u001b[0m\u001b[0m\n\u001b[0;32m--> 836\u001b[0;31m             \u001b[0mcopy_function\u001b[0m\u001b[0;34m(\u001b[0m\u001b[0msrc\u001b[0m\u001b[0;34m,\u001b[0m \u001b[0mreal_dst\u001b[0m\u001b[0;34m)\u001b[0m\u001b[0;34m\u001b[0m\u001b[0;34m\u001b[0m\u001b[0m\n\u001b[0m\u001b[1;32m    837\u001b[0m             \u001b[0mos\u001b[0m\u001b[0;34m.\u001b[0m\u001b[0munlink\u001b[0m\u001b[0;34m(\u001b[0m\u001b[0msrc\u001b[0m\u001b[0;34m)\u001b[0m\u001b[0;34m\u001b[0m\u001b[0;34m\u001b[0m\u001b[0m\n\u001b[1;32m    838\u001b[0m     \u001b[0;32mreturn\u001b[0m \u001b[0mreal_dst\u001b[0m\u001b[0;34m\u001b[0m\u001b[0;34m\u001b[0m\u001b[0m\n",
            "\u001b[0;32m/usr/lib/python3.10/shutil.py\u001b[0m in \u001b[0;36mcopy2\u001b[0;34m(src, dst, follow_symlinks)\u001b[0m\n\u001b[1;32m    432\u001b[0m     \u001b[0;32mif\u001b[0m \u001b[0mos\u001b[0m\u001b[0;34m.\u001b[0m\u001b[0mpath\u001b[0m\u001b[0;34m.\u001b[0m\u001b[0misdir\u001b[0m\u001b[0;34m(\u001b[0m\u001b[0mdst\u001b[0m\u001b[0;34m)\u001b[0m\u001b[0;34m:\u001b[0m\u001b[0;34m\u001b[0m\u001b[0;34m\u001b[0m\u001b[0m\n\u001b[1;32m    433\u001b[0m         \u001b[0mdst\u001b[0m \u001b[0;34m=\u001b[0m \u001b[0mos\u001b[0m\u001b[0;34m.\u001b[0m\u001b[0mpath\u001b[0m\u001b[0;34m.\u001b[0m\u001b[0mjoin\u001b[0m\u001b[0;34m(\u001b[0m\u001b[0mdst\u001b[0m\u001b[0;34m,\u001b[0m \u001b[0mos\u001b[0m\u001b[0;34m.\u001b[0m\u001b[0mpath\u001b[0m\u001b[0;34m.\u001b[0m\u001b[0mbasename\u001b[0m\u001b[0;34m(\u001b[0m\u001b[0msrc\u001b[0m\u001b[0;34m)\u001b[0m\u001b[0;34m)\u001b[0m\u001b[0;34m\u001b[0m\u001b[0;34m\u001b[0m\u001b[0m\n\u001b[0;32m--> 434\u001b[0;31m     \u001b[0mcopyfile\u001b[0m\u001b[0;34m(\u001b[0m\u001b[0msrc\u001b[0m\u001b[0;34m,\u001b[0m \u001b[0mdst\u001b[0m\u001b[0;34m,\u001b[0m \u001b[0mfollow_symlinks\u001b[0m\u001b[0;34m=\u001b[0m\u001b[0mfollow_symlinks\u001b[0m\u001b[0;34m)\u001b[0m\u001b[0;34m\u001b[0m\u001b[0;34m\u001b[0m\u001b[0m\n\u001b[0m\u001b[1;32m    435\u001b[0m     \u001b[0mcopystat\u001b[0m\u001b[0;34m(\u001b[0m\u001b[0msrc\u001b[0m\u001b[0;34m,\u001b[0m \u001b[0mdst\u001b[0m\u001b[0;34m,\u001b[0m \u001b[0mfollow_symlinks\u001b[0m\u001b[0;34m=\u001b[0m\u001b[0mfollow_symlinks\u001b[0m\u001b[0;34m)\u001b[0m\u001b[0;34m\u001b[0m\u001b[0;34m\u001b[0m\u001b[0m\n\u001b[1;32m    436\u001b[0m     \u001b[0;32mreturn\u001b[0m \u001b[0mdst\u001b[0m\u001b[0;34m\u001b[0m\u001b[0;34m\u001b[0m\u001b[0m\n",
            "\u001b[0;32m/usr/lib/python3.10/shutil.py\u001b[0m in \u001b[0;36mcopyfile\u001b[0;34m(src, dst, follow_symlinks)\u001b[0m\n\u001b[1;32m    254\u001b[0m         \u001b[0;32mwith\u001b[0m \u001b[0mopen\u001b[0m\u001b[0;34m(\u001b[0m\u001b[0msrc\u001b[0m\u001b[0;34m,\u001b[0m \u001b[0;34m'rb'\u001b[0m\u001b[0;34m)\u001b[0m \u001b[0;32mas\u001b[0m \u001b[0mfsrc\u001b[0m\u001b[0;34m:\u001b[0m\u001b[0;34m\u001b[0m\u001b[0;34m\u001b[0m\u001b[0m\n\u001b[1;32m    255\u001b[0m             \u001b[0;32mtry\u001b[0m\u001b[0;34m:\u001b[0m\u001b[0;34m\u001b[0m\u001b[0;34m\u001b[0m\u001b[0m\n\u001b[0;32m--> 256\u001b[0;31m                 \u001b[0;32mwith\u001b[0m \u001b[0mopen\u001b[0m\u001b[0;34m(\u001b[0m\u001b[0mdst\u001b[0m\u001b[0;34m,\u001b[0m \u001b[0;34m'wb'\u001b[0m\u001b[0;34m)\u001b[0m \u001b[0;32mas\u001b[0m \u001b[0mfdst\u001b[0m\u001b[0;34m:\u001b[0m\u001b[0;34m\u001b[0m\u001b[0;34m\u001b[0m\u001b[0m\n\u001b[0m\u001b[1;32m    257\u001b[0m                     \u001b[0;31m# macOS\u001b[0m\u001b[0;34m\u001b[0m\u001b[0;34m\u001b[0m\u001b[0m\n\u001b[1;32m    258\u001b[0m                     \u001b[0;32mif\u001b[0m \u001b[0m_HAS_FCOPYFILE\u001b[0m\u001b[0;34m:\u001b[0m\u001b[0;34m\u001b[0m\u001b[0;34m\u001b[0m\u001b[0m\n",
            "\u001b[0;31mFileNotFoundError\u001b[0m: [Errno 2] No such file or directory: '/content/Chula-ParasiteEgg-11/Chula-ParasiteEgg-11/data/valHymenolepis_nana_/Hymenolepis nana_0368.jpg'"
          ]
        }
      ]
    },
    {
      "cell_type": "code",
      "source": [
        "# Verify the new parasitic egg class subdirectories contain the correct split of data image files\n",
        "# (using Hymenolepis nana as an example)\n",
        "print(\"Number of training images: \", len(os.listdir(baseDir + \"/train/Hymenolepis_nana_\")))\n",
        "print(\"Number of validation images: \", len(os.listdir(baseDir + \"/val/Hymenolepis_nana_\")))\n",
        "print(\"Number of test images: \", len(os.listdir(baseDir + \"/test/Hymenolepis_nana_\")))"
      ],
      "metadata": {
        "id": "CADAAl5w4GW2"
      },
      "execution_count": null,
      "outputs": []
    },
    {
      "cell_type": "code",
      "source": [
        "# Specify the training, validation, and test directories\n",
        "trainDir = os.path.join(baseDir, 'train')\n",
        "valDir = os.path.join(baseDir, 'val')\n",
        "testDir = os.path.join(baseDir, 'test')"
      ],
      "metadata": {
        "id": "1fczobHFiaVY"
      },
      "execution_count": null,
      "outputs": []
    },
    {
      "cell_type": "code",
      "source": [
        "# Plot one of each type of parasitic egg classification from training set\n",
        "i = 1\n",
        "for category in (\"Hymenolepis_nana_\", \"Ascaris_lumbricoides_\", \"Enterobius_vermicularis_\", \"Capillaria_philippinensis_\", \"Hymenolepis_diminuta_\", \"Paragonimus_spp_\", \"Trichuris_trichiura_\", \"Fasciolopsis_buski_\", \"Opisthorchis_viverrine_\", \"Taenia_spp_\", \"Hookworm_\"):\n",
        "  fullPath = os.path.join(trainDir, category)\n",
        "  img = image.load_img(os.path.join(fullPath, os.listdir(fullPath)[1]))\n",
        "  plt.subplot(2, 2, i)\n",
        "  imgplot = plt.imshow(img)\n",
        "  plt.title(category)\n",
        "  i += 1\n",
        "plt.subplots_adjust(top=0.92, bottom=0.08, left=0.10, hspace=0.35, wspace=0.55)\n",
        "plt.show()"
      ],
      "metadata": {
        "id": "m_W3l2F0iEKk"
      },
      "execution_count": null,
      "outputs": []
    }
  ]
}