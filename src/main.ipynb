{
  "nbformat": 4,
  "nbformat_minor": 0,
  "metadata": {
    "colab": {
      "provenance": [],
      "gpuType": "T4",
      "authorship_tag": "ABX9TyMT/YzKFTtYccHe9pUdQ1pN",
      "include_colab_link": true
    },
    "kernelspec": {
      "name": "python3",
      "display_name": "Python 3"
    },
    "language_info": {
      "name": "python"
    },
    "accelerator": "GPU"
  },
  "cells": [
    {
      "cell_type": "markdown",
      "metadata": {
        "id": "view-in-github",
        "colab_type": "text"
      },
      "source": [
        "<a href=\"https://colab.research.google.com/github/LonnyCox55/MSDS692_ParasiticInfectionCNN/blob/main/src/main.ipynb\" target=\"_parent\"><img src=\"https://colab.research.google.com/assets/colab-badge.svg\" alt=\"Open In Colab\"/></a>"
      ]
    },
    {
      "cell_type": "markdown",
      "source": [
        "#Lonny Cox-Lauf\n",
        "#MSDS692: Data Science Practicum I\n",
        "#CNN to Classify Parasitic Infection Type using Microscopic Images\n",
        "\n",
        "This is the main Python notebook file that will clean the image data files, train, and evaluate the CNN models to classify types of parasitic eggs through microscopy."
      ],
      "metadata": {
        "id": "u_vzjoU5lg7Y"
      }
    },
    {
      "cell_type": "code",
      "execution_count": 1,
      "metadata": {
        "id": "l4Od4MzFDoEt"
      },
      "outputs": [],
      "source": [
        "# Import all necessary TensorFlow libraries\n",
        "from tensorflow.keras import backend as K\n",
        "from tensorflow.keras import backend\n",
        "from tensorflow.keras import models\n",
        "from tensorflow.keras import layers\n",
        "from tensorflow.keras import optimizers\n",
        "from tensorflow.keras.utils import to_categorical\n",
        "from tensorflow.keras import regularizers\n",
        "from tensorflow.keras.layers import BatchNormalization\n",
        "from tensorflow.keras.callbacks import EarlyStopping\n",
        "from tensorflow.keras.utils import to_categorical\n",
        "from tensorflow.keras.preprocessing.image import ImageDataGenerator # Library for data augmentation\n",
        "from tensorflow.keras.preprocessing import image"
      ]
    },
    {
      "cell_type": "code",
      "source": [
        "# Import all other necessary libraries for the project\n",
        "import numpy as np\n",
        "import matplotlib.pyplot as plt\n",
        "from sklearn.model_selection import train_test_split\n",
        "from IPython.display import display # Library to help view images\n",
        "from PIL import Image # Library to help view images\n",
        "import os, shutil # Library for navigating files\n",
        "from google.colab import drive # Library to mount google drives\n",
        "import glob"
      ],
      "metadata": {
        "id": "ZIAqnKg2dYIH"
      },
      "execution_count": 2,
      "outputs": []
    },
    {
      "cell_type": "code",
      "source": [
        "# TO DO: Import all the CNN model instantiation functions\n"
      ],
      "metadata": {
        "id": "Aiaq3-lWd6Zq"
      },
      "execution_count": null,
      "outputs": []
    },
    {
      "cell_type": "code",
      "source": [
        "# Seed the random number generator for consistency\n",
        "np.random.seed(55)"
      ],
      "metadata": {
        "id": "a7LkaeHhcjtD"
      },
      "execution_count": 3,
      "outputs": []
    },
    {
      "cell_type": "code",
      "source": [
        "# Mount the Google Drive to access the image data .zip files\n",
        "drive.mount('/content/gdrive')"
      ],
      "metadata": {
        "id": "WBD3OufTeKXm",
        "outputId": "13291b2b-ff90-430c-9ca9-27f0c6b4599c",
        "colab": {
          "base_uri": "https://localhost:8080/"
        }
      },
      "execution_count": 4,
      "outputs": [
        {
          "output_type": "stream",
          "name": "stdout",
          "text": [
            "Mounted at /content/gdrive\n"
          ]
        }
      ]
    },
    {
      "cell_type": "code",
      "source": [
        "# Un-zip all the training and testing image data files into Google Drive\n",
        "!unzip gdrive/MyDrive/MSDS692_Practicum_I/data/Chula-ParasiteEgg-11.zip > /dev/null\n",
        "#!unzip gdrive/MyDrive/MSDS692_Practicum_I/data/Chula-ParasiteEgg-11_test.zip > /dev/null TO DO: should I use this test data? It's unlabeled..."
      ],
      "metadata": {
        "id": "LJiD4Rype4FQ"
      },
      "execution_count": 5,
      "outputs": []
    },
    {
      "cell_type": "code",
      "source": [
        "# Specify the base directory where all the images are located\n",
        "baseDir = '/content/Chula-ParasiteEgg-11/Chula-ParasiteEgg-11/data'"
      ],
      "metadata": {
        "id": "oz2EzjchfVKt"
      },
      "execution_count": 6,
      "outputs": []
    },
    {
      "cell_type": "code",
      "source": [
        "# Iterate through all 11 classifications of parasitic eggs\n",
        "for eggClass in (\"Hymenolepis*nana*\", \"Ascaris*lumbricoides*\", \"Enterobius*vermicularis*\", \"Capillaria*philippinensis*\", \"Hymenolepis*diminuta*\", \"Paragonimus*spp*\", \"Trichuris*trichiura*\", \"Fasciolopsis*buski*\", \"Opisthorchis*viverrine*\", \"Taenia*spp*\", \"Hookworm*\"):\n",
        "  eggFiles = glob.glob(eggClass, root_dir = baseDir) # Find all egg image files that match the current class\n",
        "  classDirName = eggClass.replace(\"*\", \"_\")          # Replace * with underscore for the new subdirectory names\n",
        "  os.makedirs(baseDir + \"/\" + classDirName)          # Create new egg class subdirectory\n",
        "  np.random.shuffle(eggFiles)                        # Randomize the files\n",
        "  numTestFiles = int(0.2*len(eggFiles))              # Find 20% of the number of files for the test set\n",
        "  testFiles = eggFiles[-numTestFiles:]               # Create subset of the data files for the test set\n",
        "\n",
        "  # Move each test file to the respective test set directory\n",
        "  os.makedirs(baseDir + \"/\" + classDirName + \"/test\") # Create new test directory\n",
        "  for fname in testFiles:\n",
        "    shutil.move(baseDir + \"/\" + fname,                           # Source\n",
        "                baseDir + \"/\" + classDirName + \"/test/\" + fname) # Destination\n",
        "\n",
        "  numValFiles = int(0.16*len(eggFiles))                          # Find 20% of the remaining (training set) files for the validation set\n",
        "  valFiles = eggFiles[-(numTestFiles+numValFiles):-numTestFiles] # Create subset of the data files for the validation set\n",
        "\n",
        "  # Move each validation file to the respective validation set directory\n",
        "  os.makedirs(baseDir + \"/\" + classDirName + \"/val\") # Create new validation directory\n",
        "  for fname in valFiles:\n",
        "    shutil.move(baseDir + \"/\" + fname,                          # Source\n",
        "                baseDir + \"/\" + classDirName + \"/val/\" + fname) # Destination\n",
        "\n",
        "  # Create subset of the data files for the training set\n",
        "  numTrainFiles = len(eggFiles) - numTestFiles - numValFiles\n",
        "  trainFiles = eggFiles[:numTrainFiles]\n",
        "\n",
        "  # Move each training file to the respective training set directory\n",
        "  os.makedirs(baseDir + \"/\" + classDirName + \"/train\") # Create new train directory\n",
        "  for fname in trainFiles:\n",
        "    shutil.move(baseDir + \"/\" + fname,                            # Source\n",
        "                baseDir + \"/\" + classDirName + \"/train/\" + fname) # Destination"
      ],
      "metadata": {
        "id": "lWywgxgpeDPb"
      },
      "execution_count": 7,
      "outputs": []
    },
    {
      "cell_type": "code",
      "source": [
        "# Verify the new parasitic egg class subdirectories contain the correct split of data image files\n",
        "# (using Hymenolepis nana as an example)\n",
        "print(\"Number of training images: \", len(os.listdir(baseDir + \"/Hymenolepis_nana_/train\")))\n",
        "print(\"Number of validation images: \", len(os.listdir(baseDir + \"/Hymenolepis_nana_/val\")))\n",
        "print(\"Number of test images: \", len(os.listdir(baseDir + \"/Hymenolepis_nana_/test\")))"
      ],
      "metadata": {
        "id": "CADAAl5w4GW2",
        "outputId": "34911600-7e3e-47e3-bf32-0c01517663ed",
        "colab": {
          "base_uri": "https://localhost:8080/"
        }
      },
      "execution_count": 13,
      "outputs": [
        {
          "output_type": "stream",
          "name": "stdout",
          "text": [
            "Number of training images:  640\n",
            "Number of validation images:  160\n",
            "Number of test images:  200\n"
          ]
        }
      ]
    }
  ]
}